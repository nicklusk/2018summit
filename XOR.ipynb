{
 "cells": [
  {
   "cell_type": "code",
   "execution_count": null,
   "metadata": {},
   "outputs": [],
   "source": [
    "from keras.models import Sequential\n",
    "from keras.layers.core import Dense, Dropout, Activation\n",
    "from keras.optimizers import SGD\n",
    "import numpy as np \n",
    "\n",
    "training_set = np.array([[0,0],[0,1],[1,0],[1,1]])\n",
    "target_set = np.array([[0],[1],[1],[0]])\n",
    "\n",
    "model = Sequential()\n",
    "model.add(Dense(2, input_dim=2, activation='sigmoid'))\n",
    "model.add(Dense(1, activation='sigmoid'))\n",
    "model.summary()\n",
    "\n",
    "model.compile(loss='binary_crossentropy', optimizer=SGD(lr=0.5))\n",
    "\n",
    "print(\"Trainable weights before training:\")\n",
    "print(model.get_weights())\n",
    "\n",
    "model.fit(training_set, target_set, batch_size=1, epochs=2000, verbose=0)\n",
    "\n",
    "print(\"Predictions:\")\n",
    "print(model.predict_proba(training_set).round())\n",
    "\n",
    "print(\"Trainable weights after training:\")\n",
    "print(model.get_weights())\n"
   ]
  }
 ],
 "metadata": {
  "kernelspec": {
   "display_name": "Python 3",
   "language": "python",
   "name": "python3"
  },
  "language_info": {
   "codemirror_mode": {
    "name": "ipython",
    "version": 3
   },
   "file_extension": ".py",
   "mimetype": "text/x-python",
   "name": "python",
   "nbconvert_exporter": "python",
   "pygments_lexer": "ipython3",
   "version": "3.6.2"
  }
 },
 "nbformat": 4,
 "nbformat_minor": 2
}
